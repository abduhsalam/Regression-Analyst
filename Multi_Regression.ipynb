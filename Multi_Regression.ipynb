{
  "nbformat": 4,
  "nbformat_minor": 0,
  "metadata": {
    "colab": {
      "name": "Multi Regression.ipynb",
      "provenance": [],
      "collapsed_sections": [],
      "authorship_tag": "ABX9TyPe409lWRskc6p4qaRFI+Ny",
      "include_colab_link": true
    },
    "kernelspec": {
      "name": "python3",
      "display_name": "Python 3"
    }
  },
  "cells": [
    {
      "cell_type": "markdown",
      "metadata": {
        "id": "view-in-github",
        "colab_type": "text"
      },
      "source": [
        "<a href=\"https://colab.research.google.com/github/abduhsalam/Regression-Analyst/blob/master/Multi_Regression.ipynb\" target=\"_parent\"><img src=\"https://colab.research.google.com/assets/colab-badge.svg\" alt=\"Open In Colab\"/></a>"
      ]
    },
    {
      "cell_type": "code",
      "metadata": {
        "id": "NxS7e0RIczqc",
        "outputId": "fa6fc4e9-53f2-4b42-e161-befa5972c5f6",
        "colab": {
          "base_uri": "https://localhost:8080/",
          "height": 71
        }
      },
      "source": [
        "import pandas as pd\n",
        "import statsmodels.api as sm\n",
        "import seaborn as sns\n",
        "import matplotlib.pyplot as plt\n",
        "import warnings\n",
        "from sklearn import linear_model\n",
        "\n",
        "warnings.filterwarnings('ignore')\n",
        "plt.rcParams['figure.figsize'] = (7, 7)\n",
        "plt.style.use('ggplot')"
      ],
      "execution_count": 2,
      "outputs": [
        {
          "output_type": "stream",
          "text": [
            "/usr/local/lib/python3.6/dist-packages/statsmodels/tools/_testing.py:19: FutureWarning: pandas.util.testing is deprecated. Use the functions in the public API at pandas.testing instead.\n",
            "  import pandas.util.testing as tm\n"
          ],
          "name": "stderr"
        }
      ]
    },
    {
      "cell_type": "code",
      "metadata": {
        "id": "m5x2oyCwfdWE",
        "outputId": "07e8558a-494a-443e-e633-4804a1171879",
        "colab": {
          "base_uri": "https://localhost:8080/",
          "height": 514
        }
      },
      "source": [
        "df_pie = pd.read_csv('https://raw.githubusercontent.com/rc-dbe/dti/main/data/pie-sales.csv', sep =\";\")\n",
        "df_pie"
      ],
      "execution_count": 3,
      "outputs": [
        {
          "output_type": "execute_result",
          "data": {
            "text/html": [
              "<div>\n",
              "<style scoped>\n",
              "    .dataframe tbody tr th:only-of-type {\n",
              "        vertical-align: middle;\n",
              "    }\n",
              "\n",
              "    .dataframe tbody tr th {\n",
              "        vertical-align: top;\n",
              "    }\n",
              "\n",
              "    .dataframe thead th {\n",
              "        text-align: right;\n",
              "    }\n",
              "</style>\n",
              "<table border=\"1\" class=\"dataframe\">\n",
              "  <thead>\n",
              "    <tr style=\"text-align: right;\">\n",
              "      <th></th>\n",
              "      <th>week</th>\n",
              "      <th>pie_sales</th>\n",
              "      <th>price</th>\n",
              "      <th>advertising</th>\n",
              "    </tr>\n",
              "  </thead>\n",
              "  <tbody>\n",
              "    <tr>\n",
              "      <th>0</th>\n",
              "      <td>1</td>\n",
              "      <td>350</td>\n",
              "      <td>5.5</td>\n",
              "      <td>3.3</td>\n",
              "    </tr>\n",
              "    <tr>\n",
              "      <th>1</th>\n",
              "      <td>2</td>\n",
              "      <td>460</td>\n",
              "      <td>7.5</td>\n",
              "      <td>3.3</td>\n",
              "    </tr>\n",
              "    <tr>\n",
              "      <th>2</th>\n",
              "      <td>3</td>\n",
              "      <td>350</td>\n",
              "      <td>8.0</td>\n",
              "      <td>3.0</td>\n",
              "    </tr>\n",
              "    <tr>\n",
              "      <th>3</th>\n",
              "      <td>4</td>\n",
              "      <td>430</td>\n",
              "      <td>8.0</td>\n",
              "      <td>4.5</td>\n",
              "    </tr>\n",
              "    <tr>\n",
              "      <th>4</th>\n",
              "      <td>5</td>\n",
              "      <td>350</td>\n",
              "      <td>6.8</td>\n",
              "      <td>3.0</td>\n",
              "    </tr>\n",
              "    <tr>\n",
              "      <th>5</th>\n",
              "      <td>6</td>\n",
              "      <td>380</td>\n",
              "      <td>7.5</td>\n",
              "      <td>4.0</td>\n",
              "    </tr>\n",
              "    <tr>\n",
              "      <th>6</th>\n",
              "      <td>7</td>\n",
              "      <td>430</td>\n",
              "      <td>4.5</td>\n",
              "      <td>3.0</td>\n",
              "    </tr>\n",
              "    <tr>\n",
              "      <th>7</th>\n",
              "      <td>8</td>\n",
              "      <td>470</td>\n",
              "      <td>6.4</td>\n",
              "      <td>3.7</td>\n",
              "    </tr>\n",
              "    <tr>\n",
              "      <th>8</th>\n",
              "      <td>9</td>\n",
              "      <td>450</td>\n",
              "      <td>7.0</td>\n",
              "      <td>3.5</td>\n",
              "    </tr>\n",
              "    <tr>\n",
              "      <th>9</th>\n",
              "      <td>10</td>\n",
              "      <td>490</td>\n",
              "      <td>5.0</td>\n",
              "      <td>4.0</td>\n",
              "    </tr>\n",
              "    <tr>\n",
              "      <th>10</th>\n",
              "      <td>11</td>\n",
              "      <td>340</td>\n",
              "      <td>7.2</td>\n",
              "      <td>3.5</td>\n",
              "    </tr>\n",
              "    <tr>\n",
              "      <th>11</th>\n",
              "      <td>12</td>\n",
              "      <td>300</td>\n",
              "      <td>7.9</td>\n",
              "      <td>3.2</td>\n",
              "    </tr>\n",
              "    <tr>\n",
              "      <th>12</th>\n",
              "      <td>13</td>\n",
              "      <td>440</td>\n",
              "      <td>5.9</td>\n",
              "      <td>4.0</td>\n",
              "    </tr>\n",
              "    <tr>\n",
              "      <th>13</th>\n",
              "      <td>14</td>\n",
              "      <td>450</td>\n",
              "      <td>5.0</td>\n",
              "      <td>3.5</td>\n",
              "    </tr>\n",
              "    <tr>\n",
              "      <th>14</th>\n",
              "      <td>15</td>\n",
              "      <td>300</td>\n",
              "      <td>7.0</td>\n",
              "      <td>2.7</td>\n",
              "    </tr>\n",
              "  </tbody>\n",
              "</table>\n",
              "</div>"
            ],
            "text/plain": [
              "    week  pie_sales  price  advertising\n",
              "0      1        350    5.5          3.3\n",
              "1      2        460    7.5          3.3\n",
              "2      3        350    8.0          3.0\n",
              "3      4        430    8.0          4.5\n",
              "4      5        350    6.8          3.0\n",
              "5      6        380    7.5          4.0\n",
              "6      7        430    4.5          3.0\n",
              "7      8        470    6.4          3.7\n",
              "8      9        450    7.0          3.5\n",
              "9     10        490    5.0          4.0\n",
              "10    11        340    7.2          3.5\n",
              "11    12        300    7.9          3.2\n",
              "12    13        440    5.9          4.0\n",
              "13    14        450    5.0          3.5\n",
              "14    15        300    7.0          2.7"
            ]
          },
          "metadata": {
            "tags": []
          },
          "execution_count": 3
        }
      ]
    },
    {
      "cell_type": "code",
      "metadata": {
        "id": "xJRpJ1xFfxCc"
      },
      "source": [
        "X = df_pie[['price','advertising']]\n",
        "Y = df_pie['pie_sales']"
      ],
      "execution_count": 9,
      "outputs": []
    },
    {
      "cell_type": "code",
      "metadata": {
        "id": "QYbKF7f1gzxK",
        "outputId": "589af83c-e68c-45e2-a92b-0558fc4c1cb9",
        "colab": {
          "base_uri": "https://localhost:8080/",
          "height": 85
        }
      },
      "source": [
        "regr = linear_model.LinearRegression()\n",
        "regr.fit(X, Y)\n",
        "\n",
        "print('Intercept: \\n', regr.intercept_)\n",
        "print('Coefficients: \\n', regr.coef_)"
      ],
      "execution_count": 11,
      "outputs": [
        {
          "output_type": "stream",
          "text": [
            "Intercept: \n",
            " 306.5261932837436\n",
            "Coefficients: \n",
            " [-24.97508952  74.13095749]\n"
          ],
          "name": "stdout"
        }
      ]
    },
    {
      "cell_type": "code",
      "metadata": {
        "id": "oRjDIL1vhZbu",
        "outputId": "a0f979e0-82e0-40c8-8f20-2e89dd6f3c19",
        "colab": {
          "base_uri": "https://localhost:8080/",
          "height": 459
        }
      },
      "source": [
        "X = sm.add_constant(X) # adding a constant\n",
        "model = sm.OLS(Y, X).fit()\n",
        "predictions = model.predict(X) \n",
        "\n",
        "print_model = model.summary()\n",
        "print(print_model)"
      ],
      "execution_count": 12,
      "outputs": [
        {
          "output_type": "stream",
          "text": [
            "                            OLS Regression Results                            \n",
            "==============================================================================\n",
            "Dep. Variable:              pie_sales   R-squared:                       0.521\n",
            "Model:                            OLS   Adj. R-squared:                  0.442\n",
            "Method:                 Least Squares   F-statistic:                     6.539\n",
            "Date:                Sat, 17 Oct 2020   Prob (F-statistic):             0.0120\n",
            "Time:                        07:46:51   Log-Likelihood:                -77.510\n",
            "No. Observations:                  15   AIC:                             161.0\n",
            "Df Residuals:                      12   BIC:                             163.1\n",
            "Df Model:                           2                                         \n",
            "Covariance Type:            nonrobust                                         \n",
            "===============================================================================\n",
            "                  coef    std err          t      P>|t|      [0.025      0.975]\n",
            "-------------------------------------------------------------------------------\n",
            "const         306.5262    114.254      2.683      0.020      57.588     555.464\n",
            "price         -24.9751     10.832     -2.306      0.040     -48.576      -1.374\n",
            "advertising    74.1310     25.967      2.855      0.014      17.553     130.709\n",
            "==============================================================================\n",
            "Omnibus:                        1.505   Durbin-Watson:                   1.683\n",
            "Prob(Omnibus):                  0.471   Jarque-Bera (JB):                0.937\n",
            "Skew:                           0.595   Prob(JB):                        0.626\n",
            "Kurtosis:                       2.709   Cond. No.                         72.2\n",
            "==============================================================================\n",
            "\n",
            "Warnings:\n",
            "[1] Standard Errors assume that the covariance matrix of the errors is correctly specified.\n"
          ],
          "name": "stdout"
        }
      ]
    }
  ]
}